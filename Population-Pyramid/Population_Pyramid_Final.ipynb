{
 "cells": [
  {
   "cell_type": "markdown",
   "metadata": {},
   "source": [
    "# Creating Population Pyramid with Python"
   ]
  },
  {
   "cell_type": "raw",
   "metadata": {},
   "source": [
    "Language:    Python\n",
    "Platform:    Jupyter Notebook (IPython)\n",
    "Creator:     Sulaimon A. Afolabi\n",
    "Affiliation: University of the Witwatersrand, Johannesburg\n",
    "Repository:  github.com/afolaborn\n",
    "Email:       afolaborn[at]gmail.com\n",
    "Linkedin:    linkedin.com/in/sulaimonafolabiza"
   ]
  },
  {
   "cell_type": "code",
   "execution_count": 6,
   "metadata": {
    "collapsed": false
   },
   "outputs": [
    {
     "name": "stdout",
     "output_type": "stream",
     "text": [
      "Python version 2.7.12 |Anaconda 4.1.1 (64-bit)| (default, Jun 29 2016, 11:07:13) [MSC v.1500 64 bit (AMD64)]\n"
     ]
    }
   ],
   "source": [
    "import sys \n",
    "print('Python version ' + sys.version)"
   ]
  },
  {
   "cell_type": "markdown",
   "metadata": {},
   "source": [
    "## [#1] Importing the necessary modules"
   ]
  },
  {
   "cell_type": "code",
   "execution_count": 35,
   "metadata": {
    "collapsed": false
   },
   "outputs": [],
   "source": [
    "import sys                           ## For checking the current version of python etc \n",
    "import os                            ## For checking the current directory\n",
    "import pandas as pd                  ## For loading the daset\n",
    "import matplotlib.pyplot as plt      ## For create charts e.g. histogram\n",
    "import seaborn as sns                ## For create charts e.g. histogram   \n",
    "%matplotlib inline                            "
   ]
  },
  {
   "cell_type": "markdown",
   "metadata": {},
   "source": [
    "## [#2] Checking the current directory"
   ]
  },
  {
   "cell_type": "code",
   "execution_count": 8,
   "metadata": {
    "collapsed": false
   },
   "outputs": [
    {
     "name": "stdout",
     "output_type": "stream",
     "text": [
      "C:\\Anaconda2\\06_Population_Pyramid\n"
     ]
    }
   ],
   "source": [
    "cwd = os.getcwd()\n",
    "print(cwd)"
   ]
  },
  {
   "cell_type": "markdown",
   "metadata": {},
   "source": [
    "## [#3] Changing the directory "
   ]
  },
  {
   "cell_type": "code",
   "execution_count": 10,
   "metadata": {
    "collapsed": false
   },
   "outputs": [
    {
     "name": "stdout",
     "output_type": "stream",
     "text": [
      "C:\\Anaconda2\\06_Population_Pyramid\n"
     ]
    }
   ],
   "source": [
    "#Not necessary in my case \n",
    "os.chdir(r\"C:\\Anaconda2\\06_Population_Pyramid\")\n",
    "print(os.getcwd())"
   ]
  },
  {
   "cell_type": "markdown",
   "metadata": {},
   "source": [
    "# [#4] Opening  the dataset\n",
    "###   Method 1  - Pulling the data from the directory"
   ]
  },
  {
   "cell_type": "code",
   "execution_count": 90,
   "metadata": {
    "collapsed": true
   },
   "outputs": [],
   "source": [
    "Pyramid_Data = pd.read_csv(\"Pyramid_Dataset.csv\")"
   ]
  },
  {
   "cell_type": "raw",
   "metadata": {
    "collapsed": true
   },
   "source": [
    "#Note: #1. One column must be negative (e.g. male)\n",
    "       #2. Pyramid_Dataset2.csv is my dataset and it is in csv format\n",
    "       #2. pd is an alias of pandas module that was imported"
   ]
  },
  {
   "cell_type": "code",
   "execution_count": 91,
   "metadata": {
    "collapsed": false
   },
   "outputs": [
    {
     "data": {
      "text/html": [
       "<div>\n",
       "<table border=\"1\" class=\"dataframe\">\n",
       "  <thead>\n",
       "    <tr style=\"text-align: right;\">\n",
       "      <th></th>\n",
       "      <th>AgeGroup</th>\n",
       "      <th>MaleJ</th>\n",
       "      <th>FemaleJ</th>\n",
       "      <th>MaleF</th>\n",
       "      <th>FemaleF</th>\n",
       "      <th>OrderX</th>\n",
       "    </tr>\n",
       "  </thead>\n",
       "  <tbody>\n",
       "    <tr>\n",
       "      <th>0</th>\n",
       "      <td>0-4</td>\n",
       "      <td>-6402</td>\n",
       "      <td>6365</td>\n",
       "      <td>-5362</td>\n",
       "      <td>5323</td>\n",
       "      <td>20</td>\n",
       "    </tr>\n",
       "    <tr>\n",
       "      <th>1</th>\n",
       "      <td>5-9</td>\n",
       "      <td>-6408</td>\n",
       "      <td>6517</td>\n",
       "      <td>-5482</td>\n",
       "      <td>5575</td>\n",
       "      <td>19</td>\n",
       "    </tr>\n",
       "    <tr>\n",
       "      <th>2</th>\n",
       "      <td>10-14</td>\n",
       "      <td>-5569</td>\n",
       "      <td>5734</td>\n",
       "      <td>-4974</td>\n",
       "      <td>5083</td>\n",
       "      <td>18</td>\n",
       "    </tr>\n",
       "    <tr>\n",
       "      <th>3</th>\n",
       "      <td>15-19</td>\n",
       "      <td>-5893</td>\n",
       "      <td>5950</td>\n",
       "      <td>-5178</td>\n",
       "      <td>5106</td>\n",
       "      <td>17</td>\n",
       "    </tr>\n",
       "    <tr>\n",
       "      <th>4</th>\n",
       "      <td>20-24</td>\n",
       "      <td>-6133</td>\n",
       "      <td>6293</td>\n",
       "      <td>-3358</td>\n",
       "      <td>3988</td>\n",
       "      <td>16</td>\n",
       "    </tr>\n",
       "  </tbody>\n",
       "</table>\n",
       "</div>"
      ],
      "text/plain": [
       "  AgeGroup  MaleJ  FemaleJ  MaleF  FemaleF  OrderX\n",
       "0      0-4  -6402     6365  -5362     5323      20\n",
       "1      5-9  -6408     6517  -5482     5575      19\n",
       "2    10-14  -5569     5734  -4974     5083      18\n",
       "3    15-19  -5893     5950  -5178     5106      17\n",
       "4    20-24  -6133     6293  -3358     3988      16"
      ]
     },
     "execution_count": 91,
     "metadata": {},
     "output_type": "execute_result"
    }
   ],
   "source": [
    "# Selcting the top 5 records\n",
    "Pyramid_Data.head()"
   ]
  },
  {
   "cell_type": "code",
   "execution_count": 92,
   "metadata": {
    "collapsed": false
   },
   "outputs": [
    {
     "name": "stdout",
     "output_type": "stream",
     "text": [
      "  AgeGroup  MaleJ  FemaleJ  MaleF  FemaleF  OrderX\n",
      "0      0-4  -6402     6365  -5362     5323      20\n",
      "1      5-9  -6408     6517  -5482     5575      19\n",
      "2    10-14  -5569     5734  -4974     5083      18\n",
      "3    15-19  -5893     5950  -5178     5106      17\n",
      "4    20-24  -6133     6293  -3358     3988      16\n"
     ]
    }
   ],
   "source": [
    "#Note: You will need to do print(Pyramid_Data.head()) \n",
    "# in other python platofrm for the commdand to work in \n",
    "print(Pyramid_Data.head())"
   ]
  },
  {
   "cell_type": "code",
   "execution_count": null,
   "metadata": {
    "collapsed": true
   },
   "outputs": [],
   "source": [
    "### Method 2  - Pulling the data  by linking the dataset"
   ]
  },
  {
   "cell_type": "code",
   "execution_count": 93,
   "metadata": {
    "collapsed": true
   },
   "outputs": [],
   "source": [
    "#Specifying the path is good, if your data is in another location\n",
    "pathx = r'C:\\Anaconda2\\06_Population_Pyramid\\Pyramid_Dataset.csv'"
   ]
  },
  {
   "cell_type": "code",
   "execution_count": 94,
   "metadata": {
    "collapsed": true
   },
   "outputs": [],
   "source": [
    "# Note: Without \"r'\" you will have need to use back slash /\n",
    "pathx =  'C:/Anaconda2/06_Population_Pyramid/Pyramid_Dataset.csv'"
   ]
  },
  {
   "cell_type": "code",
   "execution_count": 95,
   "metadata": {
    "collapsed": false
   },
   "outputs": [],
   "source": [
    "Pyramid_Data2 = pd.read_csv(pathx)"
   ]
  },
  {
   "cell_type": "code",
   "execution_count": 96,
   "metadata": {
    "collapsed": false
   },
   "outputs": [
    {
     "data": {
      "text/html": [
       "<div>\n",
       "<table border=\"1\" class=\"dataframe\">\n",
       "  <thead>\n",
       "    <tr style=\"text-align: right;\">\n",
       "      <th></th>\n",
       "      <th>AgeGroup</th>\n",
       "      <th>MaleJ</th>\n",
       "      <th>FemaleJ</th>\n",
       "      <th>MaleF</th>\n",
       "      <th>FemaleF</th>\n",
       "      <th>OrderX</th>\n",
       "    </tr>\n",
       "  </thead>\n",
       "  <tbody>\n",
       "    <tr>\n",
       "      <th>0</th>\n",
       "      <td>0-4</td>\n",
       "      <td>-6402</td>\n",
       "      <td>6365</td>\n",
       "      <td>-5362</td>\n",
       "      <td>5323</td>\n",
       "      <td>20</td>\n",
       "    </tr>\n",
       "    <tr>\n",
       "      <th>1</th>\n",
       "      <td>5-9</td>\n",
       "      <td>-6408</td>\n",
       "      <td>6517</td>\n",
       "      <td>-5482</td>\n",
       "      <td>5575</td>\n",
       "      <td>19</td>\n",
       "    </tr>\n",
       "    <tr>\n",
       "      <th>2</th>\n",
       "      <td>10-14</td>\n",
       "      <td>-5569</td>\n",
       "      <td>5734</td>\n",
       "      <td>-4974</td>\n",
       "      <td>5083</td>\n",
       "      <td>18</td>\n",
       "    </tr>\n",
       "    <tr>\n",
       "      <th>3</th>\n",
       "      <td>15-19</td>\n",
       "      <td>-5893</td>\n",
       "      <td>5950</td>\n",
       "      <td>-5178</td>\n",
       "      <td>5106</td>\n",
       "      <td>17</td>\n",
       "    </tr>\n",
       "    <tr>\n",
       "      <th>4</th>\n",
       "      <td>20-24</td>\n",
       "      <td>-6133</td>\n",
       "      <td>6293</td>\n",
       "      <td>-3358</td>\n",
       "      <td>3988</td>\n",
       "      <td>16</td>\n",
       "    </tr>\n",
       "  </tbody>\n",
       "</table>\n",
       "</div>"
      ],
      "text/plain": [
       "  AgeGroup  MaleJ  FemaleJ  MaleF  FemaleF  OrderX\n",
       "0      0-4  -6402     6365  -5362     5323      20\n",
       "1      5-9  -6408     6517  -5482     5575      19\n",
       "2    10-14  -5569     5734  -4974     5083      18\n",
       "3    15-19  -5893     5950  -5178     5106      17\n",
       "4    20-24  -6133     6293  -3358     3988      16"
      ]
     },
     "execution_count": 96,
     "metadata": {},
     "output_type": "execute_result"
    }
   ],
   "source": [
    "Pyramid_Data2.head()"
   ]
  },
  {
   "cell_type": "markdown",
   "metadata": {},
   "source": [
    "## #5 Information on the variables "
   ]
  },
  {
   "cell_type": "code",
   "execution_count": 97,
   "metadata": {
    "collapsed": false
   },
   "outputs": [
    {
     "name": "stdout",
     "output_type": "stream",
     "text": [
      "<class 'pandas.core.frame.DataFrame'>\n",
      "RangeIndex: 20 entries, 0 to 19\n",
      "Data columns (total 6 columns):\n",
      "AgeGroup    20 non-null object\n",
      "MaleJ       20 non-null int64\n",
      "FemaleJ     20 non-null int64\n",
      "MaleF       20 non-null int64\n",
      "FemaleF     20 non-null int64\n",
      "OrderX      20 non-null int64\n",
      "dtypes: int64(5), object(1)\n",
      "memory usage: 1.0+ KB\n"
     ]
    }
   ],
   "source": [
    "# Information on Data type and number of records\n",
    "Pyramid_Data.info()"
   ]
  },
  {
   "cell_type": "raw",
   "metadata": {},
   "source": [
    "#Note: int64  -integer or number\n",
    "       object -string or text"
   ]
  },
  {
   "cell_type": "raw",
   "metadata": {
    "collapsed": true
   },
   "source": [
    "#Note: You can do ImportedFile.[tab](press tab after the . on your key board)\n",
    "# to get other functions or attributes of the \"Pyramid_Data\".\n",
    "# Pyramid_Data"
   ]
  },
  {
   "cell_type": "code",
   "execution_count": 98,
   "metadata": {
    "collapsed": false
   },
   "outputs": [
    {
     "data": {
      "text/html": [
       "<div>\n",
       "<table border=\"1\" class=\"dataframe\">\n",
       "  <thead>\n",
       "    <tr style=\"text-align: right;\">\n",
       "      <th></th>\n",
       "      <th>MaleJ</th>\n",
       "      <th>FemaleJ</th>\n",
       "      <th>MaleF</th>\n",
       "      <th>FemaleF</th>\n",
       "      <th>OrderX</th>\n",
       "    </tr>\n",
       "  </thead>\n",
       "  <tbody>\n",
       "    <tr>\n",
       "      <th>count</th>\n",
       "      <td>20.000000</td>\n",
       "      <td>20.000000</td>\n",
       "      <td>20.000000</td>\n",
       "      <td>20.000000</td>\n",
       "      <td>20.00000</td>\n",
       "    </tr>\n",
       "    <tr>\n",
       "      <th>mean</th>\n",
       "      <td>-2750.700000</td>\n",
       "      <td>2987.550000</td>\n",
       "      <td>-1738.450000</td>\n",
       "      <td>2271.650000</td>\n",
       "      <td>10.50000</td>\n",
       "    </tr>\n",
       "    <tr>\n",
       "      <th>std</th>\n",
       "      <td>2544.653034</td>\n",
       "      <td>2439.964031</td>\n",
       "      <td>1970.596155</td>\n",
       "      <td>1866.464242</td>\n",
       "      <td>5.91608</td>\n",
       "    </tr>\n",
       "    <tr>\n",
       "      <th>min</th>\n",
       "      <td>-6408.000000</td>\n",
       "      <td>88.000000</td>\n",
       "      <td>-5482.000000</td>\n",
       "      <td>80.000000</td>\n",
       "      <td>1.00000</td>\n",
       "    </tr>\n",
       "    <tr>\n",
       "      <th>25%</th>\n",
       "      <td>-5650.000000</td>\n",
       "      <td>753.750000</td>\n",
       "      <td>-2551.750000</td>\n",
       "      <td>731.750000</td>\n",
       "      <td>5.75000</td>\n",
       "    </tr>\n",
       "    <tr>\n",
       "      <th>50%</th>\n",
       "      <td>-1862.500000</td>\n",
       "      <td>2359.500000</td>\n",
       "      <td>-841.500000</td>\n",
       "      <td>1780.000000</td>\n",
       "      <td>10.50000</td>\n",
       "    </tr>\n",
       "    <tr>\n",
       "      <th>75%</th>\n",
       "      <td>-382.250000</td>\n",
       "      <td>5788.000000</td>\n",
       "      <td>-340.750000</td>\n",
       "      <td>3636.250000</td>\n",
       "      <td>15.25000</td>\n",
       "    </tr>\n",
       "    <tr>\n",
       "      <th>max</th>\n",
       "      <td>-21.000000</td>\n",
       "      <td>6517.000000</td>\n",
       "      <td>-18.000000</td>\n",
       "      <td>5575.000000</td>\n",
       "      <td>20.00000</td>\n",
       "    </tr>\n",
       "  </tbody>\n",
       "</table>\n",
       "</div>"
      ],
      "text/plain": [
       "             MaleJ      FemaleJ        MaleF      FemaleF    OrderX\n",
       "count    20.000000    20.000000    20.000000    20.000000  20.00000\n",
       "mean  -2750.700000  2987.550000 -1738.450000  2271.650000  10.50000\n",
       "std    2544.653034  2439.964031  1970.596155  1866.464242   5.91608\n",
       "min   -6408.000000    88.000000 -5482.000000    80.000000   1.00000\n",
       "25%   -5650.000000   753.750000 -2551.750000   731.750000   5.75000\n",
       "50%   -1862.500000  2359.500000  -841.500000  1780.000000  10.50000\n",
       "75%    -382.250000  5788.000000  -340.750000  3636.250000  15.25000\n",
       "max     -21.000000  6517.000000   -18.000000  5575.000000  20.00000"
      ]
     },
     "execution_count": 98,
     "metadata": {},
     "output_type": "execute_result"
    }
   ],
   "source": [
    "#Descriptive statistics\n",
    "Pyramid_Data.describe()"
   ]
  },
  {
   "cell_type": "code",
   "execution_count": 99,
   "metadata": {
    "collapsed": false
   },
   "outputs": [
    {
     "data": {
      "text/plain": [
       "Index([u'AgeGroup', u'MaleJ', u'FemaleJ', u'MaleF', u'FemaleF', u'OrderX'], dtype='object')"
      ]
     },
     "execution_count": 99,
     "metadata": {},
     "output_type": "execute_result"
    }
   ],
   "source": [
    "Pyramid_Data.columns"
   ]
  },
  {
   "cell_type": "code",
   "execution_count": 105,
   "metadata": {
    "collapsed": false
   },
   "outputs": [
    {
     "data": {
      "text/plain": [
       "(20, 6)"
      ]
     },
     "execution_count": 105,
     "metadata": {},
     "output_type": "execute_result"
    }
   ],
   "source": [
    "# Column by row (matrix)\n",
    "Pyramid_Data.shape"
   ]
  },
  {
   "cell_type": "markdown",
   "metadata": {},
   "source": [
    "## #6 Plot  Histogram "
   ]
  },
  {
   "cell_type": "raw",
   "metadata": {},
   "source": [
    "Note:\n",
    "data = Pyramid_Data = Pyramid_Dataset2.csv\n",
    "x (x-axis) = MaleJ    (MaleJ column)\n",
    "y (y-axis) = AgeGroup (AgeGroup column)"
   ]
  },
  {
   "cell_type": "code",
   "execution_count": 112,
   "metadata": {
    "collapsed": false
   },
   "outputs": [
    {
     "data": {
      "image/png": "[encoded data removed]",
      "text/plain": [
       "<matplotlib.figure.Figure at 0xcdd2828>"
      ]
     },
     "metadata": {},
     "output_type": "display_data"
    }
   ],
   "source": [
    "sns.set_style(\"white\")\n",
    "bar_plot = sns.barplot(x=\"MaleJ\",y=\"AgeGroup\", color=\"blue\", data = Pyramid_Data, \n",
    "order =['95+','90-94','85-89','80-84','75-79','70-74','65-69','60-64','55-59','50-54','45-49','40-44','35-39','30-34','25-29','20-24','15-19','10-14','5-9','0-4'])\n",
    "# sns is seaborn alias\n",
    "bar_plot.set(xlabel=\"Population\", ylabel=\"Age-Group\", title = \"Population Pyramid\");"
   ]
  },
  {
   "cell_type": "markdown",
   "metadata": {},
   "source": [
    "## #7 Plotting the Population Pyramid"
   ]
  },
  {
   "cell_type": "code",
   "execution_count": 114,
   "metadata": {
    "collapsed": false
   },
   "outputs": [
    {
     "data": {
      "image/png": "[encoded data removed]",
      "text/plain": [
       "<matplotlib.figure.Figure at 0xcfd4470>"
      ]
     },
     "metadata": {},
     "output_type": "display_data"
    }
   ],
   "source": [
    "sns.set_style(\"white\")\n",
    "#sns.set_color_codes(\"pastel\")\n",
    "bar_plot = sns.barplot(x=\"MaleJ\",y=\"AgeGroup\", color=\"blue\", label=\"Male_Dejure\",data = Pyramid_Data)\n",
    "\n",
    "bar_plot = sns.barplot(x=\"FemaleJ\",y=\"AgeGroup\", color=\"blue\", label=\"Female_Dejure\",data = Pyramid_Data)\n",
    "\n",
    "bar_plot = sns.barplot(x=\"MaleF\",y=\"AgeGroup\", color=\"red\", label=\"Male_Defacto\",data = Pyramid_Data)\n",
    "\n",
    "bar_plot = sns.barplot(x=\"FemaleF\",y=\"AgeGroup\", color=\"red\", label=\"Female_Defacto\",data = Pyramid_Data)"
   ]
  },
  {
   "cell_type": "code",
   "execution_count": 115,
   "metadata": {
    "collapsed": false
   },
   "outputs": [
    {
     "data": {
      "image/png": "[encoded data removed]",
      "text/plain": [
       "<matplotlib.figure.Figure at 0x1079d710>"
      ]
     },
     "metadata": {},
     "output_type": "display_data"
    }
   ],
   "source": [
    "#Rotate the population pyramid by ordering ..\n",
    "sns.set_style(\"white\")\n",
    "#sns.set_color_codes(\"pastel\")\n",
    "bar_plot = sns.barplot(x=\"MaleJ\",y=\"AgeGroup\", color=\"blue\", label=\"Male_Dejure\",data = Pyramid_Data, order =['95+','90-94','85-89','80-84','75-79','70-74','65-69','60-64','55-59','50-54','45-49','40-44','35-39','30-34','25-29','20-24','15-19','10-14','5-9','0-4'])\n",
    "\n",
    "bar_plot = sns.barplot(x=\"FemaleJ\",y=\"AgeGroup\", color=\"blue\", label=\"Female_Dejure\",data = Pyramid_Data, order =['95+','90-94','85-89','80-84','75-79','70-74','65-69','60-64','55-59','50-54','45-49','40-44','35-39','30-34','25-29','20-24','15-19','10-14','5-9','0-4'])\n",
    "\n",
    "bar_plot = sns.barplot(x=\"MaleF\",y=\"AgeGroup\", color=\"red\", label=\"Male_Defacto\",data = Pyramid_Data, order =['95+','90-94','85-89','80-84','75-79','70-74','65-69','60-64','55-59','50-54','45-49','40-44','35-39','30-34','25-29','20-24','15-19','10-14','5-9','0-4'])\n",
    "\n",
    "bar_plot = sns.barplot(x=\"FemaleF\",y=\"AgeGroup\", color=\"red\", label=\"Female_Defacto\",data = Pyramid_Data, order =['95+','90-94','85-89','80-84','75-79','70-74','65-69','60-64','55-59','50-54','45-49','40-44','35-39','30-34','25-29','20-24','15-19','10-14','5-9','0-4'])\n",
    "\n",
    "# Labels \n",
    "bar_plot.set(xlabel=\"Population\", ylabel=\"Age-Group\", title = \"Population Pyramid\");"
   ]
  },
  {
   "cell_type": "markdown",
   "metadata": {},
   "source": [
    "If you find this useful. Click on like. Thanks"
   ]
  }
 ],
 "metadata": {
  "anaconda-cloud": {},
  "kernelspec": {
   "display_name": "Python [Root]",
   "language": "python",
   "name": "Python [Root]"
  },
  "language_info": {
   "codemirror_mode": {
    "name": "ipython",
    "version": 2
   },
   "file_extension": ".py",
   "mimetype": "text/x-python",
   "name": "python",
   "nbconvert_exporter": "python",
   "pygments_lexer": "ipython2",
   "version": "2.7.12"
  }
 },
 "nbformat": 4,
 "nbformat_minor": 0
}
