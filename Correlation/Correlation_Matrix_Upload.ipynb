{
 "cells": [
  {
   "cell_type": "markdown",
   "metadata": {},
   "source": [
    "## Six Simple Steps to Plotting Correlation Matrix in Python"
   ]
  },
  {
   "cell_type": "code",
   "execution_count": 1,
   "metadata": {
    "collapsed": true
   },
   "outputs": [],
   "source": [
    "#Language:    Python\n",
    "#Platform:    Jupyter Notebook (IPython)\n",
    "#Creator:     Sulaimon A. Afolabi\n",
    "#Affiliation: University of the Witwatersrand, Johannesburg\n",
    "#Repository:  github.com/afolaborn\n",
    "#Email:       afolaborn[at]gmail.com\n",
    "#Linkedin:    linkedin.com/in/sulaimonafolabiza"
   ]
  },
  {
   "cell_type": "markdown",
   "metadata": {},
   "source": [
    "### Introduction"
   ]
  },
  {
   "cell_type": "markdown",
   "metadata": {},
   "source": [
    "Correlation is a technique that is often employed both in the field of Statistics and machine learning to evaluate the strength and direction of association or relationship between two variables. The variables in question can be two independent variables or dependent-independent variables. Performing correlation analysis on the former is essential to control for inter-dependency or multicollinearity between independent variables. The resultant correlation value can fall between -1 and +1. Note that your data must be continuous."
   ]
  },
  {
   "cell_type": "markdown",
   "metadata": {},
   "source": [
    "![Correlation diagram](Correlation_Coefficent.png \"Title\")"
   ]
  },
  {
   "cell_type": "markdown",
   "metadata": {},
   "source": [
    "### Learning Objectives"
   ]
  },
  {
   "cell_type": "markdown",
   "metadata": {},
   "source": [
    "At the end of this tutorial, you will be able to do the following: \n",
    "1. Have an understanding of correlation;\n",
    "2. Learn certain commands in python;\n",
    "3. Prepare you data for analysis;\n",
    "4. Compute the correlation coefficient;\n",
    "5. Graph the correlation matrix <br>\n",
    "Note: Every command starting with # sign are comments (will not be run). "
   ]
  },
  {
   "cell_type": "markdown",
   "metadata": {},
   "source": [
    "### Step #1 - Import the necessary modules & check python version "
   ]
  },
  {
   "cell_type": "code",
   "execution_count": 9,
   "metadata": {
    "collapsed": false
   },
   "outputs": [],
   "source": [
    "import os                            ## Operating system related task  \n",
    "import sys                           ## Checking the current version of python etc \n",
    "import pandas as pd                  ## Loading the daset\n",
    "import numpy as np                   ## Array creation \n",
    "import urllib                        ## Retrieving data on the web  \n",
    "import matplotlib.pyplot as plt      ## creating charts e.g. histogram\n",
    "import seaborn as sns                ## Creating charts  \n",
    "%matplotlib inline                   "
   ]
  },
  {
   "cell_type": "code",
   "execution_count": 118,
   "metadata": {
    "collapsed": false
   },
   "outputs": [
    {
     "name": "stdout",
     "output_type": "stream",
     "text": [
      "Python version 2.7.12 |Anaconda 4.1.1 (64-bit)| (default, Jun 29 2016, 11:07:13) [MSC v.1500 64 bit (AMD64)]\n"
     ]
    }
   ],
   "source": [
    "print('Python version ' + sys.version)"
   ]
  },
  {
   "cell_type": "markdown",
   "metadata": {},
   "source": [
    "### Step #2 - Checking & Changing the Default Directory\n"
   ]
  },
  {
   "cell_type": "code",
   "execution_count": 5,
   "metadata": {
    "collapsed": false
   },
   "outputs": [
    {
     "name": "stdout",
     "output_type": "stream",
     "text": [
      "C:\\Anaconda2\\11_Correlation\n"
     ]
    }
   ],
   "source": [
    "cwd = os.getcwd()\n",
    "print(cwd)"
   ]
  },
  {
   "cell_type": "code",
   "execution_count": 12,
   "metadata": {
    "collapsed": false
   },
   "outputs": [
    {
     "name": "stdout",
     "output_type": "stream",
     "text": [
      "C:\\Anaconda2\\11_Correlation\n"
     ]
    }
   ],
   "source": [
    "#The command below with change the current directory\n",
    "#Not necessary in my case\n",
    "os.chdir(r\"C:\\Anaconda2\\11_Correlation\")\n",
    "print(os.getcwd())"
   ]
  },
  {
   "cell_type": "markdown",
   "metadata": {},
   "source": [
    "### Step #3  Download, Convert, Read  & View the Dataset"
   ]
  },
  {
   "cell_type": "code",
   "execution_count": null,
   "metadata": {
    "collapsed": true
   },
   "outputs": [],
   "source": [
    "# Step 3a Download\n",
    "# Dowload the data from the specified address\n",
    "# urllib.urlretrieve (\"web address\", \"Your name for the dataset\")"
   ]
  },
  {
   "cell_type": "code",
   "execution_count": 22,
   "metadata": {
    "collapsed": false
   },
   "outputs": [
    {
     "data": {
      "text/plain": [
       "('SampleData.dta', <httplib.HTTPMessage instance at 0x000000000C3944C8>)"
      ]
     },
     "execution_count": 22,
     "metadata": {},
     "output_type": "execute_result"
    }
   ],
   "source": [
    "urllib.urlretrieve (\"http://www.stata-press.com/data/r14/auto.dta\", \"SampleData.dta\")\n",
    "#After running this, you will find the data in your directory. Note that the speed matter.\n",
    "## .dta is a stata extension"
   ]
  },
  {
   "cell_type": "code",
   "execution_count": 17,
   "metadata": {
    "collapsed": false
   },
   "outputs": [],
   "source": [
    "# 3b Covert\n",
    "#Convert the data from stata to csv \n",
    "data = pd.io.stata.read_stata('SampleData.dta')\n",
    "data.to_csv('SampleData.csv')"
   ]
  },
  {
   "cell_type": "code",
   "execution_count": 23,
   "metadata": {
    "collapsed": true
   },
   "outputs": [],
   "source": [
    "# 3c Read or Load the dataset\n",
    "SampleData = pd.read_csv('SampleData.csv')"
   ]
  },
  {
   "cell_type": "code",
   "execution_count": 25,
   "metadata": {
    "collapsed": false
   },
   "outputs": [
    {
     "data": {
      "text/html": [
       "<div>\n",
       "<table border=\"1\" class=\"dataframe\">\n",
       "  <thead>\n",
       "    <tr style=\"text-align: right;\">\n",
       "      <th></th>\n",
       "      <th>Unnamed: 0</th>\n",
       "      <th>make</th>\n",
       "      <th>price</th>\n",
       "      <th>mpg</th>\n",
       "      <th>rep78</th>\n",
       "      <th>headroom</th>\n",
       "      <th>trunk</th>\n",
       "      <th>weight</th>\n",
       "      <th>length</th>\n",
       "      <th>turn</th>\n",
       "      <th>displacement</th>\n",
       "      <th>gear_ratio</th>\n",
       "      <th>foreign</th>\n",
       "    </tr>\n",
       "  </thead>\n",
       "  <tbody>\n",
       "    <tr>\n",
       "      <th>0</th>\n",
       "      <td>0</td>\n",
       "      <td>AMC Concord</td>\n",
       "      <td>4099</td>\n",
       "      <td>22</td>\n",
       "      <td>3.0</td>\n",
       "      <td>2.5</td>\n",
       "      <td>11</td>\n",
       "      <td>2930</td>\n",
       "      <td>186</td>\n",
       "      <td>40</td>\n",
       "      <td>121</td>\n",
       "      <td>3.58</td>\n",
       "      <td>Domestic</td>\n",
       "    </tr>\n",
       "    <tr>\n",
       "      <th>1</th>\n",
       "      <td>1</td>\n",
       "      <td>AMC Pacer</td>\n",
       "      <td>4749</td>\n",
       "      <td>17</td>\n",
       "      <td>3.0</td>\n",
       "      <td>3.0</td>\n",
       "      <td>11</td>\n",
       "      <td>3350</td>\n",
       "      <td>173</td>\n",
       "      <td>40</td>\n",
       "      <td>258</td>\n",
       "      <td>2.53</td>\n",
       "      <td>Domestic</td>\n",
       "    </tr>\n",
       "    <tr>\n",
       "      <th>2</th>\n",
       "      <td>2</td>\n",
       "      <td>AMC Spirit</td>\n",
       "      <td>3799</td>\n",
       "      <td>22</td>\n",
       "      <td>NaN</td>\n",
       "      <td>3.0</td>\n",
       "      <td>12</td>\n",
       "      <td>2640</td>\n",
       "      <td>168</td>\n",
       "      <td>35</td>\n",
       "      <td>121</td>\n",
       "      <td>3.08</td>\n",
       "      <td>Domestic</td>\n",
       "    </tr>\n",
       "    <tr>\n",
       "      <th>3</th>\n",
       "      <td>3</td>\n",
       "      <td>Buick Century</td>\n",
       "      <td>4816</td>\n",
       "      <td>20</td>\n",
       "      <td>3.0</td>\n",
       "      <td>4.5</td>\n",
       "      <td>16</td>\n",
       "      <td>3250</td>\n",
       "      <td>196</td>\n",
       "      <td>40</td>\n",
       "      <td>196</td>\n",
       "      <td>2.93</td>\n",
       "      <td>Domestic</td>\n",
       "    </tr>\n",
       "    <tr>\n",
       "      <th>4</th>\n",
       "      <td>4</td>\n",
       "      <td>Buick Electra</td>\n",
       "      <td>7827</td>\n",
       "      <td>15</td>\n",
       "      <td>4.0</td>\n",
       "      <td>4.0</td>\n",
       "      <td>20</td>\n",
       "      <td>4080</td>\n",
       "      <td>222</td>\n",
       "      <td>43</td>\n",
       "      <td>350</td>\n",
       "      <td>2.41</td>\n",
       "      <td>Domestic</td>\n",
       "    </tr>\n",
       "  </tbody>\n",
       "</table>\n",
       "</div>"
      ],
      "text/plain": [
       "   Unnamed: 0           make  price  mpg  rep78  headroom  trunk  weight  \\\n",
       "0           0    AMC Concord   4099   22    3.0       2.5     11    2930   \n",
       "1           1      AMC Pacer   4749   17    3.0       3.0     11    3350   \n",
       "2           2     AMC Spirit   3799   22    NaN       3.0     12    2640   \n",
       "3           3  Buick Century   4816   20    3.0       4.5     16    3250   \n",
       "4           4  Buick Electra   7827   15    4.0       4.0     20    4080   \n",
       "\n",
       "   length  turn  displacement  gear_ratio   foreign  \n",
       "0     186    40           121        3.58  Domestic  \n",
       "1     173    40           258        2.53  Domestic  \n",
       "2     168    35           121        3.08  Domestic  \n",
       "3     196    40           196        2.93  Domestic  \n",
       "4     222    43           350        2.41  Domestic  "
      ]
     },
     "execution_count": 25,
     "metadata": {},
     "output_type": "execute_result"
    }
   ],
   "source": [
    "#  View the data\n",
    "SampleData.head()"
   ]
  },
  {
   "cell_type": "markdown",
   "metadata": {},
   "source": [
    "### Step #4  Information and Summary Statistics of Dataset"
   ]
  },
  {
   "cell_type": "code",
   "execution_count": 27,
   "metadata": {
    "collapsed": false
   },
   "outputs": [
    {
     "name": "stdout",
     "output_type": "stream",
     "text": [
      "<class 'pandas.core.frame.DataFrame'>\n",
      "RangeIndex: 74 entries, 0 to 73\n",
      "Data columns (total 13 columns):\n",
      "Unnamed: 0      74 non-null int64\n",
      "make            74 non-null object\n",
      "price           74 non-null int64\n",
      "mpg             74 non-null int64\n",
      "rep78           69 non-null float64\n",
      "headroom        74 non-null float64\n",
      "trunk           74 non-null int64\n",
      "weight          74 non-null int64\n",
      "length          74 non-null int64\n",
      "turn            74 non-null int64\n",
      "displacement    74 non-null int64\n",
      "gear_ratio      74 non-null float64\n",
      "foreign         74 non-null object\n",
      "dtypes: float64(3), int64(8), object(2)\n",
      "memory usage: 7.6+ KB\n"
     ]
    }
   ],
   "source": [
    "SampleData.info()"
   ]
  },
  {
   "cell_type": "code",
   "execution_count": null,
   "metadata": {
    "collapsed": true
   },
   "outputs": [],
   "source": [
    "# Variable       Descriptiom \n",
    "# make           Make and Model\n",
    "# price          Price of the car\n",
    "# mpg            Mileage\n",
    "# rep78          Repair record\n",
    "# headroom       headroom (in.)\n",
    "# trunk          Trunk space (cu. ft.)\n",
    "# weight         Weight (lbs)\n",
    "# length         Length (in.)\n",
    "# turn           Turn circle (ft.)\n",
    "# displacement   Displacement (cu. in.)\n",
    "# gear_ratio     Gear Ratio\n",
    "# foreign        Car ratio     "
   ]
  },
  {
   "cell_type": "code",
   "execution_count": 90,
   "metadata": {
    "collapsed": false
   },
   "outputs": [
    {
     "name": "stdout",
     "output_type": "stream",
     "text": [
      "              price        mpg      rep78   headroom      trunk       weight  \\\n",
      "count     74.000000  74.000000  69.000000  74.000000  74.000000    74.000000   \n",
      "mean    6165.256757  21.297297   3.405797   2.993243  13.756757  3019.459459   \n",
      "std     2949.495885   5.785503   0.989932   0.845995   4.277404   777.193567   \n",
      "min     3291.000000  12.000000   1.000000   1.500000   5.000000  1760.000000   \n",
      "25%     4220.250000  18.000000        NaN   2.500000  10.250000  2250.000000   \n",
      "50%     5006.500000  20.000000        NaN   3.000000  14.000000  3190.000000   \n",
      "75%     6332.250000  24.750000        NaN   3.500000  16.750000  3600.000000   \n",
      "max    15906.000000  41.000000   5.000000   5.000000  23.000000  4840.000000   \n",
      "\n",
      "           length       turn  displacement  gear_ratio  \n",
      "count   74.000000  74.000000     74.000000   74.000000  \n",
      "mean   187.932432  39.648649    197.297297    3.014865  \n",
      "std     22.266340   4.399354     91.837219    0.456287  \n",
      "min    142.000000  31.000000     79.000000    2.190000  \n",
      "25%    170.000000  36.000000    119.000000    2.730000  \n",
      "50%    192.500000  40.000000    196.000000    2.955000  \n",
      "75%    203.750000  43.000000    245.250000    3.352500  \n",
      "max    233.000000  51.000000    425.000000    3.890000  \n"
     ]
    }
   ],
   "source": [
    "print(SampleData.describe())\n",
    "#Naan means missing"
   ]
  },
  {
   "cell_type": "markdown",
   "metadata": {},
   "source": [
    "### Step 5 Remove columns with strings (i.e.text) & others"
   ]
  },
  {
   "cell_type": "code",
   "execution_count": 39,
   "metadata": {
    "collapsed": false
   },
   "outputs": [],
   "source": [
    "SampleData = SampleData.drop('make', 1)                # String or text variable\n",
    "SampleData = SampleData.drop('foreign', 1)             # String or text variable\n",
    "SampleData = SampleData.drop('Unnamed: 0', 1)          # Index of the dataset 1,2,3\n",
    "SampleData = SampleData.drop('rep78', 1)               # Has missing but it will still work"
   ]
  },
  {
   "cell_type": "code",
   "execution_count": 93,
   "metadata": {
    "collapsed": false
   },
   "outputs": [
    {
     "data": {
      "text/html": [
       "<div>\n",
       "<table border=\"1\" class=\"dataframe\">\n",
       "  <thead>\n",
       "    <tr style=\"text-align: right;\">\n",
       "      <th></th>\n",
       "      <th>price</th>\n",
       "      <th>mpg</th>\n",
       "      <th>headroom</th>\n",
       "      <th>trunk</th>\n",
       "      <th>weight</th>\n",
       "      <th>length</th>\n",
       "      <th>turn</th>\n",
       "      <th>displacement</th>\n",
       "      <th>gear_ratio</th>\n",
       "    </tr>\n",
       "  </thead>\n",
       "  <tbody>\n",
       "    <tr>\n",
       "      <th>0</th>\n",
       "      <td>4099</td>\n",
       "      <td>22</td>\n",
       "      <td>2.5</td>\n",
       "      <td>11</td>\n",
       "      <td>2930</td>\n",
       "      <td>186</td>\n",
       "      <td>40</td>\n",
       "      <td>121</td>\n",
       "      <td>3.58</td>\n",
       "    </tr>\n",
       "    <tr>\n",
       "      <th>1</th>\n",
       "      <td>4749</td>\n",
       "      <td>17</td>\n",
       "      <td>3.0</td>\n",
       "      <td>11</td>\n",
       "      <td>3350</td>\n",
       "      <td>173</td>\n",
       "      <td>40</td>\n",
       "      <td>258</td>\n",
       "      <td>2.53</td>\n",
       "    </tr>\n",
       "    <tr>\n",
       "      <th>2</th>\n",
       "      <td>3799</td>\n",
       "      <td>22</td>\n",
       "      <td>3.0</td>\n",
       "      <td>12</td>\n",
       "      <td>2640</td>\n",
       "      <td>168</td>\n",
       "      <td>35</td>\n",
       "      <td>121</td>\n",
       "      <td>3.08</td>\n",
       "    </tr>\n",
       "    <tr>\n",
       "      <th>3</th>\n",
       "      <td>4816</td>\n",
       "      <td>20</td>\n",
       "      <td>4.5</td>\n",
       "      <td>16</td>\n",
       "      <td>3250</td>\n",
       "      <td>196</td>\n",
       "      <td>40</td>\n",
       "      <td>196</td>\n",
       "      <td>2.93</td>\n",
       "    </tr>\n",
       "    <tr>\n",
       "      <th>4</th>\n",
       "      <td>7827</td>\n",
       "      <td>15</td>\n",
       "      <td>4.0</td>\n",
       "      <td>20</td>\n",
       "      <td>4080</td>\n",
       "      <td>222</td>\n",
       "      <td>43</td>\n",
       "      <td>350</td>\n",
       "      <td>2.41</td>\n",
       "    </tr>\n",
       "  </tbody>\n",
       "</table>\n",
       "</div>"
      ],
      "text/plain": [
       "   price  mpg  headroom  trunk  weight  length  turn  displacement  gear_ratio\n",
       "0   4099   22       2.5     11    2930     186    40           121        3.58\n",
       "1   4749   17       3.0     11    3350     173    40           258        2.53\n",
       "2   3799   22       3.0     12    2640     168    35           121        3.08\n",
       "3   4816   20       4.5     16    3250     196    40           196        2.93\n",
       "4   7827   15       4.0     20    4080     222    43           350        2.41"
      ]
     },
     "execution_count": 93,
     "metadata": {},
     "output_type": "execute_result"
    }
   ],
   "source": [
    "SampleData.head()"
   ]
  },
  {
   "cell_type": "markdown",
   "metadata": {},
   "source": [
    "### Step 5 Compute the Correlation Coeficient"
   ]
  },
  {
   "cell_type": "code",
   "execution_count": 94,
   "metadata": {
    "collapsed": false
   },
   "outputs": [],
   "source": [
    "correlation_Coeficient = SampleData.corr()"
   ]
  },
  {
   "cell_type": "code",
   "execution_count": 97,
   "metadata": {
    "collapsed": false
   },
   "outputs": [
    {
     "data": {
      "text/html": [
       "<div>\n",
       "<table border=\"1\" class=\"dataframe\">\n",
       "  <thead>\n",
       "    <tr style=\"text-align: right;\">\n",
       "      <th></th>\n",
       "      <th>price</th>\n",
       "      <th>mpg</th>\n",
       "      <th>headroom</th>\n",
       "      <th>trunk</th>\n",
       "      <th>weight</th>\n",
       "      <th>length</th>\n",
       "      <th>turn</th>\n",
       "      <th>displacement</th>\n",
       "      <th>gear_ratio</th>\n",
       "    </tr>\n",
       "  </thead>\n",
       "  <tbody>\n",
       "    <tr>\n",
       "      <th>price</th>\n",
       "      <td>1.000000</td>\n",
       "      <td>-0.468597</td>\n",
       "      <td>0.114506</td>\n",
       "      <td>0.314332</td>\n",
       "      <td>0.538611</td>\n",
       "      <td>0.431831</td>\n",
       "      <td>0.309617</td>\n",
       "      <td>0.494943</td>\n",
       "      <td>-0.313661</td>\n",
       "    </tr>\n",
       "    <tr>\n",
       "      <th>mpg</th>\n",
       "      <td>-0.468597</td>\n",
       "      <td>1.000000</td>\n",
       "      <td>-0.413803</td>\n",
       "      <td>-0.581585</td>\n",
       "      <td>-0.807175</td>\n",
       "      <td>-0.795779</td>\n",
       "      <td>-0.719186</td>\n",
       "      <td>-0.705643</td>\n",
       "      <td>0.616177</td>\n",
       "    </tr>\n",
       "    <tr>\n",
       "      <th>headroom</th>\n",
       "      <td>0.114506</td>\n",
       "      <td>-0.413803</td>\n",
       "      <td>1.000000</td>\n",
       "      <td>0.662011</td>\n",
       "      <td>0.483456</td>\n",
       "      <td>0.516295</td>\n",
       "      <td>0.424465</td>\n",
       "      <td>0.474491</td>\n",
       "      <td>-0.377852</td>\n",
       "    </tr>\n",
       "    <tr>\n",
       "      <th>trunk</th>\n",
       "      <td>0.314332</td>\n",
       "      <td>-0.581585</td>\n",
       "      <td>0.662011</td>\n",
       "      <td>1.000000</td>\n",
       "      <td>0.672206</td>\n",
       "      <td>0.726596</td>\n",
       "      <td>0.601059</td>\n",
       "      <td>0.608635</td>\n",
       "      <td>-0.508665</td>\n",
       "    </tr>\n",
       "    <tr>\n",
       "      <th>weight</th>\n",
       "      <td>0.538611</td>\n",
       "      <td>-0.807175</td>\n",
       "      <td>0.483456</td>\n",
       "      <td>0.672206</td>\n",
       "      <td>1.000000</td>\n",
       "      <td>0.946009</td>\n",
       "      <td>0.857443</td>\n",
       "      <td>0.894896</td>\n",
       "      <td>-0.759258</td>\n",
       "    </tr>\n",
       "    <tr>\n",
       "      <th>length</th>\n",
       "      <td>0.431831</td>\n",
       "      <td>-0.795779</td>\n",
       "      <td>0.516295</td>\n",
       "      <td>0.726596</td>\n",
       "      <td>0.946009</td>\n",
       "      <td>1.000000</td>\n",
       "      <td>0.864261</td>\n",
       "      <td>0.835140</td>\n",
       "      <td>-0.696383</td>\n",
       "    </tr>\n",
       "    <tr>\n",
       "      <th>turn</th>\n",
       "      <td>0.309617</td>\n",
       "      <td>-0.719186</td>\n",
       "      <td>0.424465</td>\n",
       "      <td>0.601059</td>\n",
       "      <td>0.857443</td>\n",
       "      <td>0.864261</td>\n",
       "      <td>1.000000</td>\n",
       "      <td>0.776765</td>\n",
       "      <td>-0.676300</td>\n",
       "    </tr>\n",
       "    <tr>\n",
       "      <th>displacement</th>\n",
       "      <td>0.494943</td>\n",
       "      <td>-0.705643</td>\n",
       "      <td>0.474491</td>\n",
       "      <td>0.608635</td>\n",
       "      <td>0.894896</td>\n",
       "      <td>0.835140</td>\n",
       "      <td>0.776765</td>\n",
       "      <td>1.000000</td>\n",
       "      <td>-0.828877</td>\n",
       "    </tr>\n",
       "    <tr>\n",
       "      <th>gear_ratio</th>\n",
       "      <td>-0.313661</td>\n",
       "      <td>0.616177</td>\n",
       "      <td>-0.377852</td>\n",
       "      <td>-0.508665</td>\n",
       "      <td>-0.759258</td>\n",
       "      <td>-0.696383</td>\n",
       "      <td>-0.676300</td>\n",
       "      <td>-0.828877</td>\n",
       "      <td>1.000000</td>\n",
       "    </tr>\n",
       "  </tbody>\n",
       "</table>\n",
       "</div>"
      ],
      "text/plain": [
       "                 price       mpg  headroom     trunk    weight    length  \\\n",
       "price         1.000000 -0.468597  0.114506  0.314332  0.538611  0.431831   \n",
       "mpg          -0.468597  1.000000 -0.413803 -0.581585 -0.807175 -0.795779   \n",
       "headroom      0.114506 -0.413803  1.000000  0.662011  0.483456  0.516295   \n",
       "trunk         0.314332 -0.581585  0.662011  1.000000  0.672206  0.726596   \n",
       "weight        0.538611 -0.807175  0.483456  0.672206  1.000000  0.946009   \n",
       "length        0.431831 -0.795779  0.516295  0.726596  0.946009  1.000000   \n",
       "turn          0.309617 -0.719186  0.424465  0.601059  0.857443  0.864261   \n",
       "displacement  0.494943 -0.705643  0.474491  0.608635  0.894896  0.835140   \n",
       "gear_ratio   -0.313661  0.616177 -0.377852 -0.508665 -0.759258 -0.696383   \n",
       "\n",
       "                  turn  displacement  gear_ratio  \n",
       "price         0.309617      0.494943   -0.313661  \n",
       "mpg          -0.719186     -0.705643    0.616177  \n",
       "headroom      0.424465      0.474491   -0.377852  \n",
       "trunk         0.601059      0.608635   -0.508665  \n",
       "weight        0.857443      0.894896   -0.759258  \n",
       "length        0.864261      0.835140   -0.696383  \n",
       "turn          1.000000      0.776765   -0.676300  \n",
       "displacement  0.776765      1.000000   -0.828877  \n",
       "gear_ratio   -0.676300     -0.828877    1.000000  "
      ]
     },
     "execution_count": 97,
     "metadata": {},
     "output_type": "execute_result"
    }
   ],
   "source": [
    "correlation_Coeficient"
   ]
  },
  {
   "cell_type": "markdown",
   "metadata": {},
   "source": [
    "### Step 6  Plotting the Correlation Matrix"
   ]
  },
  {
   "cell_type": "code",
   "execution_count": 116,
   "metadata": {
    "collapsed": false,
    "scrolled": true
   },
   "outputs": [
    {
     "data": {
      "text/plain": [
       "<matplotlib.text.Text at 0x1b1c6320>"
      ]
     },
     "execution_count": 116,
     "metadata": {},
     "output_type": "execute_result"
    },
    {
     "data": {
      "image/png": "[encoded data removed]",
      "text/plain": [
       "<matplotlib.figure.Figure at 0x1baca2e8>"
      ]
     },
     "metadata": {},
     "output_type": "display_data"
    }
   ],
   "source": [
    "f, ax = plt.subplots(figsize=(15, 7))\n",
    "sns.heatmap(correlation_Coeficient,linewidths=2.0, ax=ax , annot=True)\n",
    "ax.set_title('Correlation Mtrix')"
   ]
  },
  {
   "cell_type": "markdown",
   "metadata": {},
   "source": [
    "### Interpretation Hint"
   ]
  },
  {
   "cell_type": "markdown",
   "metadata": {},
   "source": [
    "![Correlation diagram](Correlation_Coefficent.png \"Title\")"
   ]
  },
  {
   "cell_type": "markdown",
   "metadata": {},
   "source": [
    "If you like this tutorial, please click on \"like\" via my liknkedin account https://www.linkedin.com/in/sulaimonafolabiza. If you have a github account, click the relevant button to give it a star."
   ]
  }
 ],
 "metadata": {
  "anaconda-cloud": {},
  "kernelspec": {
   "display_name": "Python [Root]",
   "language": "python",
   "name": "Python [Root]"
  },
  "language_info": {
   "codemirror_mode": {
    "name": "ipython",
    "version": 2
   },
   "file_extension": ".py",
   "mimetype": "text/x-python",
   "name": "python",
   "nbconvert_exporter": "python",
   "pygments_lexer": "ipython2",
   "version": "2.7.12"
  }
 },
 "nbformat": 4,
 "nbformat_minor": 0
}
